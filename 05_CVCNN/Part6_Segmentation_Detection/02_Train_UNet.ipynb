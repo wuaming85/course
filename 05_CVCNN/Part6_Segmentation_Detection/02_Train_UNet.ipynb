{
 "cells": [
  {
   "cell_type": "markdown",
   "id": "f2794fdb",
   "metadata": {
    "id": "c348ed6a"
   },
   "source": [
    "### 在資料集上測試 (MVtech)\n",
    "資料集: \n",
    "> THE MVTEC ANOMALY DETECTION DATASET (MVTEC AD)\n",
    "> https://www.mvtec.com/company/research/datasets/mvtec-ad\n",
    "\n",
    "\n",
    "<img src=\"https://www.mvtec.com/fileadmin/Redaktion/mvtec.com/company/research/datasets/dataset_overview_large.png\" alt=\"drawing\" width=\"400\"/>"
   ]
  },
  {
   "cell_type": "code",
   "execution_count": null,
   "id": "62ee8f6f",
   "metadata": {
    "id": "4e9acefc"
   },
   "outputs": [],
   "source": [
    "import os\n",
    "import cv2\n",
    "\n",
    "import numpy as np\n",
    "import matplotlib.pyplot as plt\n",
    "import tensorflow as tf\n",
    "from tensorflow.keras import Input, Model, Sequential, layers\n",
    "from tensorflow.keras.preprocessing.image import array_to_img, img_to_array\n",
    "from functools import partial\n",
    "from IPython.display import display\n",
    "\n",
    "from sklearn.model_selection import train_test_split\n",
    "\n",
    "from unet import UNet\n",
    "\n",
    "import albumentations as A\n",
    "from albumentations import DualTransform\n",
    "from typing_extensions import Concatenate\n",
    "from typing_extensions import Concatenate"
   ]
  },
  {
   "cell_type": "code",
   "execution_count": null,
   "id": "5430bd9a",
   "metadata": {
    "id": "be976e12"
   },
   "outputs": [],
   "source": [
    "import warnings\n",
    "warnings.filterwarnings(\"ignore\")"
   ]
  },
  {
   "cell_type": "code",
   "execution_count": null,
   "id": "ce536dd6",
   "metadata": {
    "id": "25e8c4af"
   },
   "outputs": [],
   "source": [
    "BATCH_SIZE = 16\n",
    "NUM_LABELS = 1\n",
    "WIDTH = 128\n",
    "HEIGHT = 128\n",
    "MULTI_CHANNELS = False"
   ]
  },
  {
   "cell_type": "code",
   "execution_count": null,
   "id": "1e9b0b35",
   "metadata": {
    "id": "2fb8dae7"
   },
   "outputs": [],
   "source": [
    "unet = UNet(num_class=1, padding='same', retain_dim=(WIDTH, HEIGHT))\n",
    "x = np.zeros((1, HEIGHT, WIDTH, 3), dtype=np.float32)\n",
    "y_pred = unet(x)\n",
    "print(y_pred.shape)\n",
    "del unet"
   ]
  },
  {
   "cell_type": "code",
   "execution_count": null,
   "id": "58614703",
   "metadata": {
    "id": "cdcb9bcd"
   },
   "outputs": [],
   "source": [
    "cmd = '''mkdir ./data\n",
    "wget -q https://www.mydrive.ch/shares/38536/3830184030e49fe74747669442f0f282/download/420937454-1629951595/capsule.tar.xz -O data/MVtech-capsule.tar.xz\n",
    "tar -Jxf data/MVtech-capsule.tar.xz --overwrite --directory ./data\n",
    "'''\n",
    "if not os.path.isdir('./data/capsule'):\n",
    "    for i in cmd.split('\\n'):\n",
    "        os.system(i)"
   ]
  },
  {
   "cell_type": "code",
   "execution_count": null,
   "id": "035a9192",
   "metadata": {
    "colab": {
     "base_uri": "https://localhost:8080/"
    },
    "executionInfo": {
     "elapsed": 13,
     "status": "ok",
     "timestamp": 1677651558799,
     "user": {
      "displayName": "吳承澔",
      "userId": "17428420001093174904"
     },
     "user_tz": -480
    },
    "id": "ecb3f0d6",
    "outputId": "935d32dd-8b6f-4c93-8580-c5463907426e"
   },
   "outputs": [],
   "source": [
    "item = 'capsule'\n",
    "path = os.getcwd()\n",
    "img_dir = f'{path}/data/{item}/test/scratch/'\n",
    "print(len(os.listdir(img_dir)))\n",
    "anno_dir = f'{path}/data/{item}/ground_truth/scratch/'\n",
    "\n",
    "defective_number = [i.split('.')[0] for i in os.listdir(img_dir)]"
   ]
  },
  {
   "cell_type": "markdown",
   "id": "e7ab7236",
   "metadata": {
    "id": "c0bd04b8"
   },
   "source": [
    "### 取得 image list\n",
    "輸出: data_dic (字典)\n",
    "- key: X_train, X_test, y_train, y_test"
   ]
  },
  {
   "cell_type": "code",
   "execution_count": null,
   "id": "62bc5c05",
   "metadata": {
    "colab": {
     "base_uri": "https://localhost:8080/"
    },
    "executionInfo": {
     "elapsed": 12,
     "status": "ok",
     "timestamp": 1677651558799,
     "user": {
      "displayName": "吳承澔",
      "userId": "17428420001093174904"
     },
     "user_tz": -480
    },
    "id": "13c926ac",
    "outputId": "aca4ae5a-2318-4f87-e055-799b8b474ebb"
   },
   "outputs": [],
   "source": [
    "mask_dir = lambda anno_dir, X_lis: [anno_dir+i.split('.')[0]+'_mask.png'\n",
    "                                    for i in X_lis]\n",
    "\n",
    "imgs_path_list = sorted(os.listdir(img_dir))\n",
    "\n",
    "size = 1/len(imgs_path_list)\n",
    "size = 0.1\n",
    "train, test = train_test_split(imgs_path_list, train_size=size, random_state=0)\n",
    "\n",
    "key = 'X_train, X_test, y_train, y_test'.split(', ')\n",
    "\n",
    "lis = []\n",
    "for number in [train, test]:\n",
    "    lis.append([img_dir+i for i in number])  # X\n",
    "for number in [train, test]:\n",
    "    lis.append(mask_dir(anno_dir, number))  # y\n",
    "data_dic = dict(zip(key, lis))\n",
    "data_dic['X_train']"
   ]
  },
  {
   "cell_type": "markdown",
   "id": "c383ece7",
   "metadata": {
    "id": "41781c6a"
   },
   "source": [
    "### Build dataset"
   ]
  },
  {
   "cell_type": "code",
   "execution_count": null,
   "id": "13ff490b",
   "metadata": {
    "id": "apSod-ZZG5j2"
   },
   "outputs": [],
   "source": [
    "def data_generater(imgs_path_list, anno_path_list, img_transform=None):\n",
    "    for img_path in imgs_path_list:\n",
    "        img_path = str(bytes.decode(img_path))\n",
    "        file_name = img_path.split('/')[-1].split('.')[0]\n",
    "        mask_path = [str(bytes.decode(i))\n",
    "                     for i in anno_path_list\n",
    "                     if str(i).__contains__(file_name)][0]\n",
    "        # csv\n",
    "        image = cv2.imread(img_path)\n",
    "        image = np.array(image, dtype=np.float32)\n",
    "        image = cv2.cvtColor(image, cv2.COLOR_BGR2RGB)\n",
    "        mask = cv2.imread(mask_path, cv2.IMREAD_GRAYSCALE)  # (1000, 1000)\n",
    "        mask = np.array(mask, dtype=np.float32)\n",
    "\n",
    "        if img_transform == 1:\n",
    "            transformed = transform(image=image, mask=mask)\n",
    "            image = transformed['image']\n",
    "            mask = transformed['mask']\n",
    "        elif img_transform == 2:\n",
    "            transformed = target_transform(image=image, mask=mask)\n",
    "            image = transformed['image']\n",
    "            mask = transformed['mask']\n",
    "\n",
    "        image = tf.constant(image)\n",
    "\n",
    "        mask = tf.constant(mask)\n",
    "        mask = tf.expand_dims(mask, axis=-1)\n",
    "        mask = tf.image.convert_image_dtype(mask, tf.float32)\n",
    "        mask = mask/255.\n",
    "        yield image, mask"
   ]
  },
  {
   "cell_type": "markdown",
   "id": "e5f3918b",
   "metadata": {
    "id": "ffb97d39"
   },
   "source": [
    "### 使用 albumentations 進行資料擴增"
   ]
  },
  {
   "cell_type": "code",
   "execution_count": null,
   "id": "6e69f270",
   "metadata": {
    "id": "fae37ea2"
   },
   "outputs": [],
   "source": [
    "# https://albumentations.ai/docs/getting_started/mask_augmentation/\n",
    "\n",
    "transform = A.Compose([\n",
    "    A.CenterCrop(300, 900, p=0.5),\n",
    "    A.HorizontalFlip(p=0.5),\n",
    "    A.Rotate((-30, 30), interpolation=0),\n",
    "    A.ToFloat(always_apply=True),\n",
    "    A.Resize(WIDTH, HEIGHT),\n",
    "])\n",
    "\n",
    "target_transform = A.Compose([\n",
    "    A.ToFloat(always_apply=True),\n",
    "    A.Resize(WIDTH, HEIGHT),\n",
    "])"
   ]
  },
  {
   "cell_type": "code",
   "execution_count": null,
   "id": "45723865",
   "metadata": {},
   "outputs": [],
   "source": [
    "# 建議同時間只有 16 個 (128,128) 的 sample 進行計算 (Total = BATCH_SIZE*MULTIPLE_BATCH)\n",
    "BATCH_SIZE = 16\n",
    "MULTI_CHANNELS = False\n",
    "\n",
    "# 在這邊會強制對所有不滿 BATCH_SIZE 的訓練資料做數量上的匹配，\n",
    "# 接著透過 CustomImageDataset 的 transform 做資料擴增\n",
    "if len(data_dic['X_train']) < 16:\n",
    "    lis = data_dic['X_train']\n",
    "    lis = [lis[i % len(lis)] for i in range(BATCH_SIZE)]\n",
    "    data_dic['X_train'] = lis\n",
    "\n",
    "train_ds = tf.data.Dataset.from_generator(\n",
    "    data_generater,\n",
    "    output_signature=(tf.TensorSpec(shape=(None, None, 3),\n",
    "                                    dtype=tf.float32),\n",
    "                      tf.TensorSpec(shape=(None, None, 1), dtype=tf.float32)),\n",
    "    args=[data_dic['X_train'], data_dic['y_train'], 1])\n",
    "\n",
    "test_ds = tf.data.Dataset.from_generator(\n",
    "    data_generater, output_signature=(tf.TensorSpec(shape=(None, None, 3),\n",
    "                                                    dtype=tf.float32),\n",
    "                                      tf.TensorSpec(shape=(None, None, 1),\n",
    "                                                    dtype=tf.float32)),\n",
    "    args=[data_dic['X_test'], data_dic['y_test'], 2])\n",
    "\n",
    "# 如果要正式使用要記得把 test_ds 的資料換成換成 X_test\n",
    "\n",
    "dataset_train = train_ds.batch(BATCH_SIZE).prefetch(buffer_size=32)\n",
    "dataset_test = test_ds.batch(BATCH_SIZE).prefetch(buffer_size=32)"
   ]
  },
  {
   "cell_type": "code",
   "execution_count": null,
   "id": "07c36b46",
   "metadata": {},
   "outputs": [],
   "source": [
    "for batch in dataset_train.take(1):\n",
    "    print(f'{len(batch)}, {batch[0].shape}, {batch[1].shape}')"
   ]
  },
  {
   "cell_type": "markdown",
   "id": "f27937af",
   "metadata": {
    "id": "n5O5exWckMiK"
   },
   "source": [
    "#### 補充: 如何從 dataset 抽 image, mask 出來"
   ]
  },
  {
   "cell_type": "code",
   "execution_count": null,
   "id": "98131452",
   "metadata": {},
   "outputs": [],
   "source": [
    "def show_image_mask(*img_list, split=False):\n",
    "    plt.figure(figsize=(10, 3))\n",
    "    for i, img in enumerate(list(img_list), 1):\n",
    "        plt.subplot(1, len(img_list), i)\n",
    "        img = img - img.min()\n",
    "        if len(np.shape(img)) == 2:\n",
    "            plt.imshow(img, cmap='gray')\n",
    "        else:\n",
    "            img = img.astype(np.int32)\n",
    "            plt.imshow(img)\n",
    "    plt.show()\n",
    "    plt.close()"
   ]
  },
  {
   "cell_type": "code",
   "execution_count": null,
   "id": "ff97ebc8",
   "metadata": {},
   "outputs": [],
   "source": [
    "for batch in dataset_train.take(1):\n",
    "    for image, mask in zip(batch[0], batch[1]):\n",
    "        show_image_mask(image.numpy(), mask.numpy().squeeze())"
   ]
  },
  {
   "cell_type": "markdown",
   "id": "4e444c72",
   "metadata": {
    "id": "VwWOFO-okRlT"
   },
   "source": [
    "# 訓練模型"
   ]
  },
  {
   "cell_type": "code",
   "execution_count": null,
   "id": "3ac250f5",
   "metadata": {
    "colab": {
     "base_uri": "https://localhost:8080/",
     "height": 245
    },
    "executionInfo": {
     "elapsed": 1569,
     "status": "error",
     "timestamp": 1677647243144,
     "user": {
      "displayName": "吳承澔",
      "userId": "17428420001093174904"
     },
     "user_tz": -480
    },
    "id": "8018673f",
    "outputId": "0efdb0f1-f114-48a3-e7bd-24c48e01680e"
   },
   "outputs": [],
   "source": [
    "model = UNet(num_class=1, padding='same', retain_dim=(WIDTH, HEIGHT))\n",
    "\n",
    "loss_fn = tf.nn.sigmoid_cross_entropy_with_logits\n",
    "optimizer = tf.keras.optimizers.Adam(learning_rate=0.001)\n",
    "\n",
    "model.compile(optimizer=optimizer, loss=loss_fn)\n",
    "model.fit(dataset_train, batch_size=16, epochs=500)\n",
    "# model.save_weights('UNet')"
   ]
  },
  {
   "cell_type": "code",
   "execution_count": null,
   "id": "7eec005a",
   "metadata": {},
   "outputs": [],
   "source": [
    "for batch in dataset_train.take(1):\n",
    "    for image, mask in zip(batch[0], batch[1]):\n",
    "        pre = model(np.expand_dims(image, 0)).numpy()\n",
    "#         pre[pre>=0.2] = 1\n",
    "#         pre[pre<0.2] = 0\n",
    "        show_image_mask(image.numpy(), mask.numpy().squeeze(), pre.squeeze())"
   ]
  },
  {
   "cell_type": "code",
   "execution_count": null,
   "id": "253ed992",
   "metadata": {},
   "outputs": [],
   "source": []
  }
 ],
 "metadata": {
  "accelerator": "GPU",
  "colab": {
   "provenance": []
  },
  "gpuClass": "standard",
  "kernelspec": {
   "display_name": "Python 3 (ipykernel)",
   "language": "python",
   "name": "python3"
  },
  "language_info": {
   "codemirror_mode": {
    "name": "ipython",
    "version": 3
   },
   "file_extension": ".py",
   "mimetype": "text/x-python",
   "name": "python",
   "nbconvert_exporter": "python",
   "pygments_lexer": "ipython3",
   "version": "3.7.12"
  }
 },
 "nbformat": 4,
 "nbformat_minor": 5
}
