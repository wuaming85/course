{
 "cells": [
  {
   "cell_type": "markdown",
   "metadata": {
    "colab_type": "text",
    "id": "jVehH4MNhbTP"
   },
   "source": [
    "# **CNN 入門**\n",
    "此份程式碼會介紹透過一個簡單的公開資料集，建置模型、訓練模型，並比較 DNN model 處理影像型資料的差異。"
   ]
  },
  {
   "cell_type": "markdown",
   "metadata": {
    "colab_type": "text",
    "id": "98Q6g2Bfu6hB"
   },
   "source": [
    "## 匯入所需套件"
   ]
  },
  {
   "cell_type": "code",
   "execution_count": null,
   "metadata": {
    "colab": {
     "base_uri": "https://localhost:8080/",
     "height": 34
    },
    "colab_type": "code",
    "executionInfo": {
     "elapsed": 810,
     "status": "ok",
     "timestamp": 1563000671116,
     "user": {
      "displayName": "kinna kinna",
      "photoUrl": "",
      "userId": "09336290170720198249"
     },
     "user_tz": -480
    },
    "id": "C-K6b_vfX3iJ",
    "outputId": "a7acd042-f0b3-425d-e7f4-3bf3bebdfc15"
   },
   "outputs": [],
   "source": [
    "# import package\n",
    "import matplotlib.pyplot as plt\n",
    "import numpy as np"
   ]
  },
  {
   "cell_type": "code",
   "execution_count": null,
   "metadata": {},
   "outputs": [],
   "source": [
    "import tensorflow as tf\n",
    "import tensorflow.keras as keras\n",
    "from tensorflow.keras.datasets import cifar10\n",
    "from tensorflow.keras.models import Sequential, Model\n",
    "from tensorflow.keras.layers import (Input, Dense, Dropout, Activation,\n",
    "                                     BatchNormalization, Flatten,\n",
    "                                     Conv2D, MaxPooling2D)"
   ]
  },
  {
   "cell_type": "markdown",
   "metadata": {
    "colab_type": "text",
    "id": "awautmYIh4a2"
   },
   "source": [
    "## Cifar10 資料讀入及前處理"
   ]
  },
  {
   "cell_type": "markdown",
   "metadata": {},
   "source": [
    "![](https://i.imgur.com/edFmvOC.png)"
   ]
  },
  {
   "cell_type": "code",
   "execution_count": null,
   "metadata": {
    "colab": {
     "base_uri": "https://localhost:8080/",
     "height": 120
    },
    "colab_type": "code",
    "executionInfo": {
     "elapsed": 9954,
     "status": "ok",
     "timestamp": 1563000737624,
     "user": {
      "displayName": "kinna kinna",
      "photoUrl": "",
      "userId": "09336290170720198249"
     },
     "user_tz": -480
    },
    "id": "IKC4TPyHX5NE",
    "outputId": "92e945b1-6e20-4bf4-b453-7c4035944396"
   },
   "outputs": [],
   "source": [
    "# cifar10 中有將 data 先分為 train 和 test\n",
    "(x_train, y_train), (x_test, y_test) = cifar10.load_data()\n",
    "\n",
    "print('x_train shape:', x_train.shape)\n",
    "print('y_train.shape:', y_train.shape)\n",
    "print(x_train.shape[0], 'train samples')\n",
    "print(x_test.shape[0], 'test samples')\n",
    "\n",
    "# x_train.shape: 四個維度：第 1 維度為筆數、第 2, 3 維度為影像大小 32*32、第 4 維度是 RGB 三原色，所以是 3\n",
    "# x_train 中有 50000 筆訓練資料，以及 x_test 中有 10000 筆的測試資料"
   ]
  },
  {
   "cell_type": "code",
   "execution_count": null,
   "metadata": {},
   "outputs": [],
   "source": [
    "uniques, counts = np.unique(y_train, return_counts=True)\n",
    "print(uniques, counts)\n",
    "\n",
    "plt.bar(uniques, counts)\n",
    "plt.xticks(uniques)\n",
    "plt.show()"
   ]
  },
  {
   "cell_type": "code",
   "execution_count": null,
   "metadata": {},
   "outputs": [],
   "source": [
    "uniques, counts = np.unique(y_test, return_counts=True)\n",
    "print(uniques, counts)\n",
    "\n",
    "plt.bar(uniques, counts)\n",
    "plt.xticks(uniques)\n",
    "plt.show()"
   ]
  },
  {
   "cell_type": "code",
   "execution_count": null,
   "metadata": {},
   "outputs": [],
   "source": [
    "plt.imshow(x_train[0])\n",
    "plt.title(\"label: {}\".format(y_train[0]), fontsize=15)     # 第 0 筆圖像資料分類的位置\n",
    "plt.axis(\"off\")\n",
    "plt.show()"
   ]
  },
  {
   "cell_type": "code",
   "execution_count": null,
   "metadata": {},
   "outputs": [],
   "source": [
    "x_train.dtype"
   ]
  },
  {
   "cell_type": "code",
   "execution_count": null,
   "metadata": {
    "colab": {},
    "colab_type": "code",
    "id": "CoW9s8z0X6w3"
   },
   "outputs": [],
   "source": [
    "# 記得轉成 'float32'\n",
    "x_train = x_train.astype('float32')\n",
    "x_test = x_test.astype('float32')\n",
    "\n",
    "# 將 features (照片影像特徵值) 標準化，可以提高模型預測的準確度，並且更快收斂\n",
    "x_train /= 255  # rescaling\n",
    "x_test /= 255   # rescaling"
   ]
  },
  {
   "cell_type": "code",
   "execution_count": null,
   "metadata": {
    "colab": {
     "base_uri": "https://localhost:8080/",
     "height": 188
    },
    "colab_type": "code",
    "executionInfo": {
     "elapsed": 1016,
     "status": "ok",
     "timestamp": 1563000946633,
     "user": {
      "displayName": "kinna kinna",
      "photoUrl": "",
      "userId": "09336290170720198249"
     },
     "user_tz": -480
    },
    "id": "zjl7VQmk_woy",
    "outputId": "d353a3c8-29a9-4c99-86be-b61427de527a"
   },
   "outputs": [],
   "source": [
    "y_train[0:10]    # 0:10筆的類別"
   ]
  },
  {
   "cell_type": "code",
   "execution_count": null,
   "metadata": {
    "colab": {
     "base_uri": "https://localhost:8080/",
     "height": 51
    },
    "colab_type": "code",
    "executionInfo": {
     "elapsed": 1064,
     "status": "ok",
     "timestamp": 1563001029180,
     "user": {
      "displayName": "kinna kinna",
      "photoUrl": "",
      "userId": "09336290170720198249"
     },
     "user_tz": -480
    },
    "id": "eSXBilArX8ih",
    "outputId": "b64ed539-6326-47ec-e676-d571a152d947"
   },
   "outputs": [],
   "source": [
    "# 將訓練資料與測試資料的 label，進行 Onehot encoding 轉換\n",
    "num_classes = 10\n",
    "y_train = keras.utils.to_categorical(y_train, num_classes)\n",
    "y_test = keras.utils.to_categorical(y_test, num_classes)\n",
    "\n",
    "# y_train = np.eye(num_classes, dtype='float32')[y_train[:, 0]]\n",
    "# y_test = np.eye(num_classes, dtype='float32')[y_test[:, 0]]\n",
    "\n",
    "print('y_train shape:', y_train.shape)\n",
    "print('y_test shape:', y_test.shape)"
   ]
  },
  {
   "cell_type": "markdown",
   "metadata": {
    "colab_type": "text",
    "id": "rqCH66zEiJ8m"
   },
   "source": [
    "## 模型定義"
   ]
  },
  {
   "cell_type": "code",
   "execution_count": null,
   "metadata": {
    "colab": {
     "base_uri": "https://localhost:8080/",
     "height": 774
    },
    "colab_type": "code",
    "executionInfo": {
     "elapsed": 1255,
     "status": "ok",
     "timestamp": 1563001560149,
     "user": {
      "displayName": "kinna kinna",
      "photoUrl": "",
      "userId": "09336290170720198249"
     },
     "user_tz": -480
    },
    "id": "5xJctfVWE3hj",
    "outputId": "80a4d722-6111-4d50-e2be-dd28a095a6c4"
   },
   "outputs": [],
   "source": [
    "dnn_model = Sequential()\n",
    "\n",
    "dnn_model.add(Flatten(input_shape=x_train.shape[1:]))\n",
    "dnn_model.add(Dense(32))\n",
    "dnn_model.add(Activation('relu'))\n",
    "dnn_model.add(Dense(32))\n",
    "dnn_model.add(Activation('relu'))\n",
    "dnn_model.add(Dense(64))\n",
    "dnn_model.add(Activation('relu'))\n",
    "dnn_model.add(Dense(64))\n",
    "dnn_model.add(Activation('relu'))\n",
    "dnn_model.add(Dense(num_classes))\n",
    "dnn_model.add(Activation('softmax'))"
   ]
  },
  {
   "cell_type": "code",
   "execution_count": null,
   "metadata": {},
   "outputs": [],
   "source": [
    "dnn_model.summary()"
   ]
  },
  {
   "cell_type": "markdown",
   "metadata": {},
   "source": [
    "* ### CNN Model\n",
    "![](https://i.imgur.com/fyoPGuk.png)"
   ]
  },
  {
   "cell_type": "code",
   "execution_count": null,
   "metadata": {
    "colab": {
     "base_uri": "https://localhost:8080/",
     "height": 774
    },
    "colab_type": "code",
    "executionInfo": {
     "elapsed": 1085,
     "status": "ok",
     "timestamp": 1563001287037,
     "user": {
      "displayName": "kinna kinna",
      "photoUrl": "",
      "userId": "09336290170720198249"
     },
     "user_tz": -480
    },
    "id": "3cZSnAQjX-M_",
    "outputId": "3fd15f5d-4ffd-4c00-b451-1a4eca25bb87"
   },
   "outputs": [],
   "source": [
    "# 選擇 Keras 的 API 寫法\n",
    "inputs = Input(shape=x_train.shape[1:])\n",
    "\n",
    "# 第一層\n",
    "# 建立卷積層，設定32個3*3的filters\n",
    "# 設定ReLU為激活函數。\n",
    "x = Conv2D(32, (3, 3), activation='relu')(inputs)\n",
    "\n",
    "# 第二層 - 卷積層 + 池化層\n",
    "x = Conv2D(32, (3, 3), activation='relu')(x)\n",
    "x = MaxPooling2D(pool_size=(2, 2))(x)\n",
    "\n",
    "# 第三層 - 卷積層\n",
    "x = Conv2D(64, (3, 3), activation='relu')(x)\n",
    "\n",
    "# 第四層 - 卷積層 + 池化層\n",
    "x = Conv2D(64, (3, 3), activation='relu')(x)\n",
    "x = MaxPooling2D(pool_size=(2, 2))(x)\n",
    "\n",
    "# 建立分類模型 (MLP) : 平坦層 + 輸出層 (10)\n",
    "x = Flatten()(x)\n",
    "outputs = Dense(num_classes, activation='softmax')(x)\n",
    "\n",
    "\n",
    "cnn_model = Model(inputs=inputs, outputs=outputs)"
   ]
  },
  {
   "cell_type": "code",
   "execution_count": null,
   "metadata": {},
   "outputs": [],
   "source": [
    "cnn_model.summary()"
   ]
  },
  {
   "cell_type": "code",
   "execution_count": null,
   "metadata": {
    "colab": {
     "base_uri": "https://localhost:8080/",
     "height": 106
    },
    "colab_type": "code",
    "executionInfo": {
     "elapsed": 1104,
     "status": "ok",
     "timestamp": 1563001643262,
     "user": {
      "displayName": "kinna kinna",
      "photoUrl": "",
      "userId": "09336290170720198249"
     },
     "user_tz": -480
    },
    "id": "8tie_2BzYAF0",
    "outputId": "77537ab9-7e76-4f34-a804-86484dfb80d8"
   },
   "outputs": [],
   "source": [
    "# 編譯模型\n",
    "# 選用 Adam 為 optimizer\n",
    "learning_rate = 0.0001\n",
    "optimizer = keras.optimizers.Adam(learning_rate=learning_rate)\n",
    "\n",
    "dnn_model.compile(loss='categorical_crossentropy',\n",
    "                  optimizer=optimizer,\n",
    "                  metrics=['accuracy'])\n",
    "cnn_model.compile(loss='categorical_crossentropy',\n",
    "                  optimizer=optimizer,\n",
    "                  metrics=['accuracy'])"
   ]
  },
  {
   "cell_type": "markdown",
   "metadata": {
    "colab_type": "text",
    "id": "CkrKrXctigSI"
   },
   "source": [
    "## 開始訓練模型"
   ]
  },
  {
   "cell_type": "code",
   "execution_count": null,
   "metadata": {},
   "outputs": [],
   "source": [
    "batch_size = 32\n",
    "epochs = 20"
   ]
  },
  {
   "cell_type": "code",
   "execution_count": null,
   "metadata": {
    "colab": {
     "base_uri": "https://localhost:8080/",
     "height": 826
    },
    "colab_type": "code",
    "executionInfo": {
     "elapsed": 432193,
     "status": "ok",
     "timestamp": 1563002079497,
     "user": {
      "displayName": "kinna kinna",
      "photoUrl": "",
      "userId": "09336290170720198249"
     },
     "user_tz": -480
    },
    "id": "3-2yHC87YRXh",
    "outputId": "1a8dc1d0-459f-4264-c763-923a6b73364c"
   },
   "outputs": [],
   "source": [
    "print('Training DNN model')\n",
    "dnn_history = dnn_model.fit(x_train, y_train,\n",
    "                            batch_size=batch_size,\n",
    "                            epochs=epochs,\n",
    "                            validation_data=(x_test, y_test),\n",
    "                            verbose=1)\n",
    "print('Training CNN model')\n",
    "cnn_history = cnn_model.fit(x_train, y_train,\n",
    "                            batch_size=batch_size,\n",
    "                            epochs=epochs,\n",
    "                            validation_data=(x_test, y_test),\n",
    "                            verbose=1)"
   ]
  },
  {
   "cell_type": "markdown",
   "metadata": {
    "colab_type": "text",
    "id": "LkvF_ek87SFe"
   },
   "source": [
    "## 測試資料"
   ]
  },
  {
   "cell_type": "code",
   "execution_count": null,
   "metadata": {
    "colab": {
     "base_uri": "https://localhost:8080/",
     "height": 286
    },
    "colab_type": "code",
    "executionInfo": {
     "elapsed": 1093,
     "status": "ok",
     "timestamp": 1563002110314,
     "user": {
      "displayName": "kinna kinna",
      "photoUrl": "",
      "userId": "09336290170720198249"
     },
     "user_tz": -480
    },
    "id": "HvMffc1z7SFg",
    "outputId": "dd7f1259-39e6-4c8f-8679-732e006aa249"
   },
   "outputs": [],
   "source": [
    "test_pred = cnn_model.predict(x_test[0:1]).argmax(-1)\n",
    "\n",
    "plt.imshow(x_test[0])\n",
    "print('prediction: ', test_pred)"
   ]
  },
  {
   "cell_type": "code",
   "execution_count": null,
   "metadata": {
    "colab": {
     "base_uri": "https://localhost:8080/",
     "height": 34
    },
    "colab_type": "code",
    "executionInfo": {
     "elapsed": 1046,
     "status": "ok",
     "timestamp": 1563002114791,
     "user": {
      "displayName": "kinna kinna",
      "photoUrl": "",
      "userId": "09336290170720198249"
     },
     "user_tz": -480
    },
    "id": "nOTt1fjIvIb5",
    "outputId": "467dd6ba-024e-49ce-a65f-407b42c3714c"
   },
   "outputs": [],
   "source": [
    "print(y_test[0])"
   ]
  },
  {
   "cell_type": "code",
   "execution_count": null,
   "metadata": {},
   "outputs": [],
   "source": [
    "dnn_loss, dnn_acc = dnn_model.evaluate(x_test, y_test, verbose=2)\n",
    "cnn_loss, cnn_acc = cnn_model.evaluate(x_test, y_test, verbose=2)"
   ]
  },
  {
   "cell_type": "markdown",
   "metadata": {
    "colab_type": "text",
    "id": "P6OaWCuWimfe"
   },
   "source": [
    "## 訓練結果視覺化"
   ]
  },
  {
   "cell_type": "code",
   "execution_count": null,
   "metadata": {
    "colab": {},
    "colab_type": "code",
    "id": "DEj3hkCJZqFf"
   },
   "outputs": [],
   "source": [
    "history_list = [cnn_history, dnn_history]\n",
    "history_train_acc = [\"cnn_train_acc\", \"dnn_train_acc\"]\n",
    "history_valid_acc = [\"cnn_valid_acc\", \"dnn_valid_acc\"]\n",
    "history_train_loss = [\"cnn_train_loss\", \"dnn_train_loss\"]\n",
    "history_valid_loss = [\"cnn_valid_loss\", \"dnn_valid_loss\"]"
   ]
  },
  {
   "cell_type": "code",
   "execution_count": null,
   "metadata": {
    "colab": {
     "base_uri": "https://localhost:8080/",
     "height": 1000
    },
    "colab_type": "code",
    "executionInfo": {
     "elapsed": 1866,
     "status": "ok",
     "timestamp": 1563002130158,
     "user": {
      "displayName": "kinna kinna",
      "photoUrl": "",
      "userId": "09336290170720198249"
     },
     "user_tz": -480
    },
    "id": "p-H_2wjabXas",
    "outputId": "46bf11bc-2983-4ab0-92c3-2b4b33e4362a"
   },
   "outputs": [],
   "source": [
    "plt.figure(figsize=(20, 6))\n",
    "\n",
    "# training loss\n",
    "plt.subplot(1, 2, 1)\n",
    "for each_his, each_train, each_valid in zip(history_list,\n",
    "                                            history_train_loss,\n",
    "                                            history_valid_loss):\n",
    "    l_x = len(each_his.history['loss'])\n",
    "    plt.plot(np.arange(l_x), each_his.history['loss'], label=each_train)\n",
    "    plt.plot(np.arange(l_x), each_his.history['val_loss'], label=each_valid)\n",
    "plt.legend(loc='best')\n",
    "plt.title('Loss')\n",
    "\n",
    "# training acc\n",
    "plt.subplot(1, 2, 2)\n",
    "for each_his, each_train, each_valid in zip(history_list,\n",
    "                                            history_train_acc,\n",
    "                                            history_valid_acc):\n",
    "    l_x = len(each_his.history['accuracy'])\n",
    "    plt.plot(np.arange(l_x), each_his.history['accuracy'], label=each_train)\n",
    "    plt.plot(np.arange(l_x), each_his.history['val_accuracy'], label=each_valid)\n",
    "plt.legend(loc='best')\n",
    "plt.title('Accuracy')\n",
    "plt.show()"
   ]
  },
  {
   "cell_type": "code",
   "execution_count": null,
   "metadata": {},
   "outputs": [],
   "source": []
  }
 ],
 "metadata": {
  "accelerator": "GPU",
  "colab": {
   "collapsed_sections": [],
   "name": "ex0_CNN_practice_simple.ipynb",
   "provenance": [
    {
     "file_id": "1Bfjl8PKirjCR_zs468NOWec8dfGUNdGN",
     "timestamp": 1553099246392
    }
   ],
   "version": "0.3.2"
  },
  "kernelspec": {
   "display_name": "Python 3 (ipykernel)",
   "language": "python",
   "name": "python3"
  },
  "language_info": {
   "codemirror_mode": {
    "name": "ipython",
    "version": 3
   },
   "file_extension": ".py",
   "mimetype": "text/x-python",
   "name": "python",
   "nbconvert_exporter": "python",
   "pygments_lexer": "ipython3",
   "version": "3.7.12"
  }
 },
 "nbformat": 4,
 "nbformat_minor": 4
}
