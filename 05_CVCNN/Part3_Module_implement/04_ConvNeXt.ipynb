{
 "cells": [
  {
   "cell_type": "markdown",
   "id": "792c17a7",
   "metadata": {
    "id": "d30ff0ba"
   },
   "source": [
    "# **ConvNeXt**\n",
    "此份程式碼會介紹如何使用 tf.keras 的方式建構 ConvNeXt 的模型架構。"
   ]
  },
  {
   "cell_type": "markdown",
   "id": "e5168150",
   "metadata": {
    "id": "U_rmu4t6cgoI"
   },
   "source": [
    "<img src=\"https://i.imgur.com/aIZ2IgS.png\" width=600/>\n",
    "\n",
    "- [source paper](https://arxiv.org/abs/2201.03545)"
   ]
  },
  {
   "cell_type": "markdown",
   "id": "e093fb85",
   "metadata": {},
   "source": [
    "## 匯入套件"
   ]
  },
  {
   "cell_type": "code",
   "execution_count": null,
   "id": "2d0b571e",
   "metadata": {
    "id": "81d8af48"
   },
   "outputs": [],
   "source": [
    "import numpy as np\n",
    "import matplotlib.pyplot as plt\n",
    "\n",
    "# Tensorflow 相關套件\n",
    "import tensorflow as tf\n",
    "from tensorflow.keras import datasets, layers, Model, Sequential, losses"
   ]
  },
  {
   "cell_type": "markdown",
   "id": "fbdf4c9b",
   "metadata": {},
   "source": [
    "## 載入資料集"
   ]
  },
  {
   "cell_type": "code",
   "execution_count": null,
   "id": "3af4a308",
   "metadata": {
    "colab": {
     "base_uri": "https://localhost:8080/"
    },
    "executionInfo": {
     "elapsed": 7729,
     "status": "ok",
     "timestamp": 1677070536353,
     "user": {
      "displayName": "吳承澔",
      "userId": "17428420001093174904"
     },
     "user_tz": -480
    },
    "id": "026cc8b7",
    "outputId": "ce13436f-b6b7-49e5-d00a-26a267cc2c84"
   },
   "outputs": [],
   "source": [
    "(x_train, y_train), (x_test, y_test) = datasets.mnist.load_data()\n",
    "\n",
    "# Expand dimensions\n",
    "x_train = tf.expand_dims(x_train, axis=3, name=None)\n",
    "x_test = tf.expand_dims(x_test, axis=3, name=None)\n",
    "print(f'x_train shape: {x_train.shape}')\n",
    "print(f'x_test shape: {x_test.shape}')\n",
    "print('----------')\n",
    "\n",
    "# Grayscale to RGB\n",
    "x_train = tf.repeat(x_train, 3, axis=3)\n",
    "x_test = tf.repeat(x_test, 3, axis=3)\n",
    "print(f'x_train shape: {x_train.shape}')\n",
    "print(f'x_test shape: {x_test.shape}')\n",
    "print('----------')\n",
    "\n",
    "# Split dataset into training and validation data\n",
    "x_val = x_train[int(x_train.shape[0]*0.8):, :, :, :]\n",
    "y_val = y_train[int(y_train.shape[0]*0.8):]\n",
    "x_train = x_train[:int(x_train.shape[0]*0.8), :, :, :]\n",
    "y_train = y_train[:int(y_train.shape[0]*0.8)]\n",
    "print(f'x_train shape: {x_train.shape}, x_val shape: {x_val.shape}')\n",
    "print(f'y_train shape: {y_train.shape}, y_val shape: {y_val.shape}')"
   ]
  },
  {
   "cell_type": "markdown",
   "id": "be847e45",
   "metadata": {},
   "source": [
    "## ConvNext Arhietecture"
   ]
  },
  {
   "cell_type": "markdown",
   "id": "6e02381e",
   "metadata": {},
   "source": [
    "![](https://i.imgur.com/P9FvSbO.png)"
   ]
  },
  {
   "cell_type": "code",
   "execution_count": null,
   "id": "420691fd",
   "metadata": {},
   "outputs": [],
   "source": [
    "labels_num = 10"
   ]
  },
  {
   "cell_type": "code",
   "execution_count": null,
   "id": "bbecd35b",
   "metadata": {},
   "outputs": [],
   "source": [
    "def ConvNeXtBlock(x, filter_num, block_num):\n",
    "    for i in range(block_num):\n",
    "        # depthwise conv\n",
    "        depthwise = layers.DepthwiseConv2D((7, 7),\n",
    "                                           padding='same')(x)\n",
    "        depthwise = layers.LayerNormalization(epsilon=1e-6)(depthwise)\n",
    "\n",
    "        # pointwise conv\n",
    "        pointwise = layers.Conv2D(4 * filter_num, (1, 1),\n",
    "                                  strides=(1, 1),\n",
    "                                  padding='same',\n",
    "                                  activation='gelu')(depthwise)\n",
    "        pointwise = layers.Conv2D(filter_num, (1, 1),\n",
    "                                  strides=(1, 1),\n",
    "                                  padding='same')(pointwise)\n",
    "\n",
    "        # skip connection\n",
    "        outputs = layers.Add()([x, pointwise])\n",
    "        x = outputs\n",
    "    return outputs"
   ]
  },
  {
   "cell_type": "code",
   "execution_count": null,
   "id": "2518b8bc",
   "metadata": {},
   "outputs": [],
   "source": [
    "def Downsample(x, filter_num):\n",
    "    x = layers.LayerNormalization(epsilon=1e-6)(x)\n",
    "    output = layers.Conv2D(filter_num, (2, 2),\n",
    "                           strides=(2, 2),\n",
    "                           padding='same')(x)\n",
    "    return output"
   ]
  },
  {
   "cell_type": "code",
   "execution_count": null,
   "id": "a7fc1e5b",
   "metadata": {},
   "outputs": [],
   "source": [
    "filter_list = [96, 192, 384, 768]\n",
    "block_list = [3, 3, 9, 3]\n",
    "\n",
    "tf.keras.backend.clear_session()\n",
    "inputs = layers.Input(shape=x_train.shape[1:])\n",
    "x = layers.Resizing(224, 224,\n",
    "                    interpolation=\"bilinear\",\n",
    "                    input_shape=x_train.shape[1:])(inputs)\n",
    "\n",
    "x = layers.Conv2D(filter_list[0], (4, 4),\n",
    "                  strides=(4, 4),\n",
    "                  padding='same')(x)\n",
    "x = layers.LayerNormalization(epsilon=1e-6)(x)\n",
    "x = ConvNeXtBlock(x, filter_list[0], block_list[0])\n",
    "\n",
    "for filter_num, block_num in zip(filter_list[1:], block_list[1:]):\n",
    "    x = Downsample(x, filter_num)\n",
    "    x = ConvNeXtBlock(x, filter_num, block_num)\n",
    "\n",
    "x = layers.GlobalAveragePooling2D()(x)\n",
    "x = layers.LayerNormalization(epsilon=1e-6)(x)\n",
    "outputs = layers.Dense(labels_num, activation='softmax')(x)"
   ]
  },
  {
   "cell_type": "code",
   "execution_count": null,
   "id": "84af9190",
   "metadata": {
    "executionInfo": {
     "elapsed": 16,
     "status": "ok",
     "timestamp": 1677075780543,
     "user": {
      "displayName": "吳承澔",
      "userId": "17428420001093174904"
     },
     "user_tz": -480
    },
    "id": "UjrVxHqqZgPv"
   },
   "outputs": [],
   "source": [
    "ConvNeXt_model = Model(inputs=inputs, outputs=outputs)"
   ]
  },
  {
   "cell_type": "code",
   "execution_count": null,
   "id": "613215ac",
   "metadata": {
    "colab": {
     "base_uri": "https://localhost:8080/"
    },
    "executionInfo": {
     "elapsed": 451,
     "status": "ok",
     "timestamp": 1677075780978,
     "user": {
      "displayName": "吳承澔",
      "userId": "17428420001093174904"
     },
     "user_tz": -480
    },
    "id": "c2403250",
    "outputId": "bfeafef6-e71f-483c-efbb-950f31611c49"
   },
   "outputs": [],
   "source": [
    "ConvNeXt_model.summary()"
   ]
  },
  {
   "cell_type": "code",
   "execution_count": null,
   "id": "a97ebae0",
   "metadata": {
    "colab": {
     "base_uri": "https://localhost:8080/"
    },
    "executionInfo": {
     "elapsed": 580,
     "status": "ok",
     "timestamp": 1677075781556,
     "user": {
      "displayName": "吳承澔",
      "userId": "17428420001093174904"
     },
     "user_tz": -480
    },
    "id": "64dd531f",
    "outputId": "e3c2ff70-3971-406d-c88c-91e3d84c01c8"
   },
   "outputs": [],
   "source": [
    "batch_size = 4\n",
    "inputs = np.ones((batch_size, x_train.shape[1], x_train.shape[2], 3),\n",
    "                 dtype=np.float32)\n",
    "ConvNeXt_model(inputs)"
   ]
  },
  {
   "cell_type": "code",
   "execution_count": null,
   "id": "94ebd2fa",
   "metadata": {},
   "outputs": [],
   "source": []
  }
 ],
 "metadata": {
  "colab": {
   "provenance": []
  },
  "kernelspec": {
   "display_name": "Python 3 (ipykernel)",
   "language": "python",
   "name": "python3"
  },
  "language_info": {
   "codemirror_mode": {
    "name": "ipython",
    "version": 3
   },
   "file_extension": ".py",
   "mimetype": "text/x-python",
   "name": "python",
   "nbconvert_exporter": "python",
   "pygments_lexer": "ipython3",
   "version": "3.7.12"
  }
 },
 "nbformat": 4,
 "nbformat_minor": 5
}
