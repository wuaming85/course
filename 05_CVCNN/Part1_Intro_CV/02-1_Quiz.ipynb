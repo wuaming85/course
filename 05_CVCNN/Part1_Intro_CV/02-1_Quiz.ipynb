{
 "cells": [
  {
   "cell_type": "markdown",
   "metadata": {
    "id": "x8MMewvY0eGT"
   },
   "source": [
    "## $\\large{Quiz}$"
   ]
  },
  {
   "cell_type": "markdown",
   "metadata": {
    "id": "GiFVS1dQ0eGX"
   },
   "source": [
    "請將 Path 中每張影像讀取出來，並將影像路徑和整理成底下的 DataFrame 格式...<br>\n",
    "如下表 my_dataframe 及下圖 my_imageshow"
   ]
  },
  {
   "cell_type": "code",
   "execution_count": null,
   "metadata": {
    "id": "GrmrKudq0eGX"
   },
   "outputs": [],
   "source": [
    "# upload Simpson.zip\n",
    "!wget -q https://github.com/TA-aiacademy/course_3.0/releases/download/CVCNN_Data/Simpson.zip\n",
    "# unzip file\n",
    "!unzip -q Simpson.zip"
   ]
  },
  {
   "cell_type": "code",
   "execution_count": null,
   "metadata": {
    "id": "vpazSSoB0eGY"
   },
   "outputs": [],
   "source": [
    "Path = \"./Simpson\""
   ]
  },
  {
   "cell_type": "markdown",
   "metadata": {
    "id": "LdMRtIhp0eGY"
   },
   "source": [
    "$\\begin{array}{c | c} class & label\\\\\\hline\n",
    " 0 & abraham\\_grampa\\_simpson\\\\\n",
    " 1 & agnes\\_skinner\\\\\n",
    " 2 & apu\\_nahasapeemapetilon\\\\\n",
    " 3 & bart\\_simpson\\\\\n",
    " 4 & carl\\_carlson \\end{array}$"
   ]
  },
  {
   "cell_type": "markdown",
   "metadata": {
    "id": "DM93_gSS0eGZ"
   },
   "source": [
    "## my_dataframe"
   ]
  },
  {
   "cell_type": "markdown",
   "metadata": {
    "id": "Kr0hWIyy0eGZ"
   },
   "source": [
    "<img src=\"https://i.imgur.com/sBTAAU5.png\" width=350/>"
   ]
  },
  {
   "cell_type": "markdown",
   "metadata": {
    "id": "YWUZO6s90eGZ"
   },
   "source": [
    "## my_imageshow"
   ]
  },
  {
   "cell_type": "markdown",
   "metadata": {
    "id": "entbCnws0eGZ"
   },
   "source": [
    "<img src=\"https://i.imgur.com/X9Bmcrw.png\" width=600/>"
   ]
  },
  {
   "cell_type": "code",
   "execution_count": null,
   "metadata": {
    "id": "QTgnwtdR0eGa"
   },
   "outputs": [],
   "source": []
  }
 ],
 "metadata": {
  "colab": {
   "provenance": []
  },
  "kernelspec": {
   "display_name": "Python 3 (ipykernel)",
   "language": "python",
   "name": "python3"
  },
  "language_info": {
   "codemirror_mode": {
    "name": "ipython",
    "version": 3
   },
   "file_extension": ".py",
   "mimetype": "text/x-python",
   "name": "python",
   "nbconvert_exporter": "python",
   "pygments_lexer": "ipython3",
   "version": "3.7.12"
  }
 },
 "nbformat": 4,
 "nbformat_minor": 4
}
