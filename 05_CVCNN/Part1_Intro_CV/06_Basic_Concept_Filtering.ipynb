{
 "cells": [
  {
   "cell_type": "markdown",
   "metadata": {
    "id": "NWlTHMSm5d2I"
   },
   "source": [
    "# The Basic Concept of the Filtering"
   ]
  },
  {
   "cell_type": "markdown",
   "metadata": {
    "id": "vPC-TU8C5d2O"
   },
   "source": [
    "# <img src=\"https://i.imgur.com/zZ3wkbu.png\" width=500  />"
   ]
  },
  {
   "cell_type": "markdown",
   "metadata": {
    "id": "Zk9l_Fis5d2P"
   },
   "source": [
    "### 本章節內容大綱\n",
    "* [Nosie 雜訊](#Nosie-雜訊)\n",
    "  - [Gaussian Noise 高斯雜訊](#Gaussian-Noise-高斯雜訊)\n",
    "  - [Impulse Noise (Salt-and-Pepper Noise) 椒鹽雜訊](#Impulse-Noise-(Salt-and-Pepper-Noise)-椒鹽雜訊)\n",
    "* [Filter 濾波器](#Filter-濾波器)\n",
    "  - [濾波器種類](#濾波器種類)\n",
    "  - [平滑濾波器](#平滑濾波器)\n",
    "    - [低通濾波器 Low Pass Filter](#平滑濾波器--低通濾波器-Low-Pass-Filter)\n",
    "    - [中值濾波器 Median Filter](#平滑濾波器--中值濾波器-Median-Filter)\n",
    "  - [銳化濾波器](#銳化濾波器-High-Pass-Filter)\n",
    "    - [高通濾波器](#高通濾波器-High-Pass-Filter)\n",
    "        - [Sobel Filter -- Edge Detection](#Sobel-Filter----Edge-Detection)\n",
    "        - [Laplacian Filter](#Laplacian-Filter)\n",
    "        - [Laplacian -Sharpening 影像銳化](#Laplacian---Sharpening-影像銳化)"
   ]
  },
  {
   "cell_type": "code",
   "execution_count": null,
   "metadata": {
    "id": "esZDquFA5d2P"
   },
   "outputs": [],
   "source": [
    "import cv2\n",
    "import matplotlib.pyplot as plt\n",
    "import numpy as np"
   ]
  },
  {
   "cell_type": "markdown",
   "metadata": {
    "id": "g3cbyLA25d2Q"
   },
   "source": [
    "## Nosie 雜訊 <img src=\"https://i.imgur.com/K86Itha.png\" width=200  />\n",
    "\n",
    " - 在電子學中，訊號在傳輸過程中容易受到一些外在能量所產生訊號（如雜散電磁場等）的干擾，這些能量即雜訊。\n",
    " - 雜訊通常會造成訊號的失真。其來源除了來自系統外部，亦有可能由接收系統內部產生。\n",
    " - 雜訊在生活中的例子如，在收音機或是無線對講機發出「唦唦」的嘈雜聲，或者像是傳統電視顯示黑白色閃爍如「雪花」的畫面。\n",
    " - 影像是訊號的一種，因此在傳輸的過程中不免會產生雜訊，在整個影像學中，「雜訊的產生」與「去除雜訊」是整個影像學的柱石。"
   ]
  },
  {
   "cell_type": "markdown",
   "metadata": {
    "id": "_a6y5nKW5d2Q"
   },
   "source": [
    "<img src=\"https://i.imgur.com/z7HfIiJ.png\" width=250  />"
   ]
  },
  {
   "cell_type": "markdown",
   "metadata": {
    "id": "17GuXOu45d2R"
   },
   "source": [
    "我們簡單列舉幾個在教科書上常見的雜訊....<br>\n",
    "<img src=\"https://i.imgur.com/0ePogoK.png\" width=700  />\n",
    "<img src=\"https://i.imgur.com/uNBxLjn.png\" width=700  />\n",
    "\n",
    "其中我們挑出最為常見的 Gaussian Noise 和 Impulse Noise 來說明<br>\n",
    "<img src=\"https://i.imgur.com/Md6vIx1.png\" width=700  />"
   ]
  },
  {
   "cell_type": "markdown",
   "metadata": {
    "id": "wRKiCLrv5d2R"
   },
   "source": [
    " - ### Gaussian Noise 高斯雜訊\n",
    " Gaussian Noise 即是將雜訊轉換到 frequency domain 來看，它分佈的狀態是會呈現所謂的高斯分佈( Gaussian distribution )，如下圖：\n",
    " <img src=\"https://i.imgur.com/ro69DlW.png\" width=500  />\n",
    " \n",
    " 任何電子只要溫度在絕對零度 K 以上，就會產生振動，振動的電子就會產生隨機訊號，即稱作熱雜訊 Thermal Noise。於是科學家發現，熱雜訊在 frequency domain 的分佈恰好是呈現高斯分佈的，也就是 Gaussian Noise。常見的生活例子，如未調好的電視螢幕。"
   ]
  },
  {
   "cell_type": "code",
   "execution_count": null,
   "metadata": {
    "id": "rZ65aUaxN4Mg"
   },
   "outputs": [],
   "source": [
    "# upload Data\n",
    "!wget -q https://github.com/TA-aiacademy/course_3.0/releases/download/CVCNN_Data/CVCNN_part1.zip\n",
    "!unzip -q CVCNN_part1.zip"
   ]
  },
  {
   "cell_type": "code",
   "execution_count": null,
   "metadata": {
    "id": "PnieMvBE5d2S"
   },
   "outputs": [],
   "source": [
    "img = cv2.imread('Einstein.jpg')[:, :, ::-1]\n",
    "\n",
    "\n",
    "def gasuss_noise(image, mean=0, var=0.01):\n",
    "    image = np.array(image/255, dtype=float)\n",
    "    noise = np.random.normal(mean, var ** 0.5, image.shape)\n",
    "    out = image + noise\n",
    "    out = np.clip(out, 0, 1.0)\n",
    "    out = np.uint8(out * 255)\n",
    "    return out\n",
    "\n",
    "\n",
    "output = [img, gasuss_noise(img)]\n",
    "titles = ['Original', 'Gaussian Noise']\n",
    "plt.figure(figsize=(12, 6))\n",
    "for i in range(2):\n",
    "    plt.subplot(1, 2, i+1)\n",
    "    plt.imshow(output[i])\n",
    "    plt.title(titles[i], fontsize=16)\n",
    "    plt.axis(\"off\")\n",
    "plt.show()"
   ]
  },
  {
   "cell_type": "markdown",
   "metadata": {
    "id": "jm1C_kyc5d2S"
   },
   "source": [
    " - ### Impulse Noise (Salt-and-Pepper Noise) 椒鹽雜訊\n",
    " \n",
    "如果訊號在成像或是傳輸過程中，突然被一個脈波 pulse 干擾到，就有機會產生 Impulse noise。而在影像上這種雜訊通常會以極值 0 或 255 出現，即一個小黑點 0 或小白點 255，看起來就像在影像上灑上了胡椒(黑)與鹽(白)，因此又稱 Salt-and-Pepper Noise。"
   ]
  },
  {
   "cell_type": "code",
   "execution_count": null,
   "metadata": {
    "id": "CH25wJfB5d2S"
   },
   "outputs": [],
   "source": [
    "image = cv2.imread('Einstein.jpg')[:, :, ::-1]\n",
    "\n",
    "\n",
    "def ImpulseNoise(img, noise_type, percetage):\n",
    "    NoiseNum = int(percetage * img.shape[0] * img.shape[1])\n",
    "\n",
    "    randX = np.random.randint(0, img.shape[0], NoiseNum)\n",
    "    randY = np.random.randint(0, img.shape[1], NoiseNum)\n",
    "\n",
    "    if noise_type == \"pepper\":\n",
    "        img[randX, randY] = 0\n",
    "    elif noise_type == \"salt\":\n",
    "        img[randX, randY] = 255\n",
    "    elif noise_type == \"s&p\":\n",
    "        img[randX[::2], randY[::2]] = 0\n",
    "        img[randX[1::2], randY[1::2]] = 255\n",
    "    else:\n",
    "        pass\n",
    "\n",
    "    return img\n",
    "\n",
    "\n",
    "noise_list = [\"original\", \"salt\", \"pepper\", \"s&p\"]\n",
    "\n",
    "plt.figure(figsize=(18, 10))\n",
    "for i, each in enumerate(noise_list):\n",
    "    plt.subplot(1, 4, i+1)\n",
    "    plt.imshow(ImpulseNoise(image.copy(), each, 0.1))\n",
    "    plt.title(each, fontsize=15)\n",
    "    plt.axis(\"off\")\n",
    "plt.show()"
   ]
  },
  {
   "cell_type": "markdown",
   "metadata": {
    "id": "2Y6aOrU15d2T"
   },
   "source": [
    "## Filter 濾波器"
   ]
  },
  {
   "cell_type": "markdown",
   "metadata": {
    "id": "lZkqfJMz5d2T"
   },
   "source": [
    "* Filter 邊長通常為奇數的方形，又稱為遮罩 Mask、Kernel。\n",
    "* 主要概念是將遮罩覆蓋到指定影像的每個像素上面。<br>\n",
    "<img src=\"https://drive.google.com/uc?export=view&id=1Ah8U3wiau3X4gMGFaaawIRpYBtjLebYk\" width=550  /><br>"
   ]
  },
  {
   "cell_type": "markdown",
   "metadata": {
    "id": "KWJKaAfF5d2T"
   },
   "source": [
    "\n",
    " * ## 濾波器種類\n",
    "    - 平滑濾波器：用於模糊化和去除雜訊。\n",
    "        - 低通濾波器 (Low pass filter)\n",
    "        - 中值濾波器 (Median filter)\n",
    "    -  銳化濾波器：強化物體的邊緣位置。\n",
    "        - 高通濾波器 (High pass filter)\n",
    "          - Sobel Filter\n",
    "          - Laplacian Filter\n",
    "---"
   ]
  },
  {
   "cell_type": "markdown",
   "metadata": {
    "id": "ESeBwEOC5d2U"
   },
   "source": [
    "* #### 平滑濾波器--低通濾波器 Low Pass Filter\n",
    " - 保持低頻部分，減少或消除高頻部分。\n",
    "    - 高頻：短距離內灰階值變化值大(例：邊緣或雜訊)\n",
    "    - 低頻：短距離內灰階值變化值小(例：背景或皮膚紋理)\n",
    " - 方法：將每一個像素的所有鄰近的灰階值加總起來，然後再以平均值取代該像素之灰階值。\n",
    " - 效果：將灰階變化較大之像素的值縮小，因此影像的「銳利」變化會降低，所以低通濾波器有模糊邊緣這個副作用。\n",
    " - 最常見的低通濾波器為 Average Filter、Weighted Average Filter\n",
    " \n",
    " <img src=\"https://i.imgur.com/7YAN07q.png\" width=400  />"
   ]
  },
  {
   "cell_type": "code",
   "execution_count": null,
   "metadata": {
    "id": "Z7srnGKP5d2U"
   },
   "outputs": [],
   "source": [
    "img = cv2.imread('Einstein.jpg')[:, :, ::-1]"
   ]
  },
  {
   "cell_type": "markdown",
   "metadata": {
    "id": "p8GSjj1O5d2U"
   },
   "source": [
    "-- Average Filter 模糊化"
   ]
  },
  {
   "cell_type": "code",
   "execution_count": null,
   "metadata": {
    "id": "VrEaHmCj5d2U"
   },
   "outputs": [],
   "source": [
    "average_filter = np.ones((3, 3))/9\n",
    "ave_img = cv2.filter2D(img, -1, average_filter)"
   ]
  },
  {
   "cell_type": "code",
   "execution_count": null,
   "metadata": {
    "id": "hBpQYcro5d2U"
   },
   "outputs": [],
   "source": [
    "output = [img, ave_img]\n",
    "titles = ['Original', 'Average Filter']\n",
    "plt.figure(figsize=(16, 8))\n",
    "for i in range(2):\n",
    "    plt.subplot(1, 2, i+1)\n",
    "    plt.imshow(output[i], cmap='gray')\n",
    "    plt.title(titles[i], fontsize=16)\n",
    "    plt.axis(\"off\")\n",
    "plt.show()"
   ]
  },
  {
   "cell_type": "markdown",
   "metadata": {
    "id": "-ZVQ_o7y5d2V"
   },
   "source": [
    "-- Average Filter 去雜訊"
   ]
  },
  {
   "cell_type": "code",
   "execution_count": null,
   "metadata": {
    "id": "e6mdW-QC5d2V"
   },
   "outputs": [],
   "source": [
    "gau_img = gasuss_noise(img, mean=0, var=0.01)"
   ]
  },
  {
   "cell_type": "code",
   "execution_count": null,
   "metadata": {
    "id": "g9qMtIZB5d2V"
   },
   "outputs": [],
   "source": [
    "average_filter = np.ones((3, 3))/9\n",
    "ave_img = cv2.filter2D(gau_img.copy(), -1, average_filter)"
   ]
  },
  {
   "cell_type": "code",
   "execution_count": null,
   "metadata": {
    "id": "xgS0k2Ai5d2V"
   },
   "outputs": [],
   "source": [
    "output = [img, gau_img, ave_img]\n",
    "titles = ['Original', 'Gaussian Noise', 'Average Filter']\n",
    "plt.figure(figsize=(24, 8))\n",
    "for i in range(3):\n",
    "    plt.subplot(1, 3, i+1)\n",
    "    plt.imshow(output[i], cmap='gray')\n",
    "    plt.title(titles[i], fontsize=16)\n",
    "    plt.axis(\"off\")\n",
    "plt.show()"
   ]
  },
  {
   "cell_type": "markdown",
   "metadata": {
    "id": "2aygu0al5d2V"
   },
   "source": [
    "* #### 平滑濾波器--中值濾波器 Median Filter\n",
    " - 效果：中值濾波器可以將較強的高頻雜訊去除，而仍然能夠保持邊緣的銳度。\n",
    " - 方法：將遮罩內之像素值進行排序，找出中間值，然後將遮罩內中像素之灰階值以該中間值取代。\n",
    " \n",
    " <img src=\"https://i.imgur.com/fUZsXWa.png\" width=550  />"
   ]
  },
  {
   "cell_type": "code",
   "execution_count": null,
   "metadata": {},
   "outputs": [],
   "source": [
    "sp_img = ImpulseNoise(img.copy(), \"s&p\", 0.1)"
   ]
  },
  {
   "cell_type": "code",
   "execution_count": null,
   "metadata": {
    "id": "9ZLCj0Vi5d2W"
   },
   "outputs": [],
   "source": [
    "median = cv2.medianBlur(sp_img.copy(), 3)"
   ]
  },
  {
   "cell_type": "code",
   "execution_count": null,
   "metadata": {
    "id": "0C0_sDZj5d2W"
   },
   "outputs": [],
   "source": [
    "output = [sp_img, median]\n",
    "titles = ['Impulse Noise', 'Median Filter']\n",
    "plt.figure(figsize=(12, 8))\n",
    "for i in range(2):\n",
    "    plt.subplot(1, 2, i+1)\n",
    "    plt.imshow(output[i], cmap='gray')\n",
    "    plt.title(titles[i], fontsize=16)\n",
    "    plt.axis(\"off\")\n",
    "plt.show()"
   ]
  },
  {
   "cell_type": "markdown",
   "metadata": {
    "id": "DGvhbR2w5d2W"
   },
   "source": [
    "   - 平滑濾波器具有去雜訊的效果，但同時在影像上也可能造成不同效果的模糊化，如下..."
   ]
  },
  {
   "cell_type": "code",
   "execution_count": null,
   "metadata": {
    "id": "HqnSLpOd5d2W"
   },
   "outputs": [],
   "source": [
    "image = cv2.imread('Einstein.jpg')[:, :, ::-1]\n",
    "\n",
    "img_noise = ImpulseNoise(image.copy(), each, 0.1)\n",
    "\n",
    "avg_blur = cv2.blur(image, (5, 5))\n",
    "Gauss_blurred = cv2.GaussianBlur(image, (15, 15), 5)\n",
    "median_blurred = cv2.medianBlur(image, 5)\n",
    "bilateral_blur = cv2.bilateralFilter(image, 9, 75, 75)\n",
    "\n",
    "\n",
    "titles = ['Original_img', 'PepperandSalt_img', 'avg_blur',\n",
    "          'Gauss_blurred', 'median_blurred', 'bilateral_blur']\n",
    "images = [image, img_noise, avg_blur, Gauss_blurred,\n",
    "          median_blurred, bilateral_blur]\n",
    "plt.figure(figsize=(12, 8))\n",
    "for i in range(6):\n",
    "    plt.subplot(2, 3, i+1)\n",
    "    plt.imshow(images[i])\n",
    "    plt.title(titles[i])\n",
    "    plt.axis(\"off\")\n",
    "plt.tight_layout()\n",
    "plt.show()"
   ]
  },
  {
   "cell_type": "markdown",
   "metadata": {
    "id": "aTVPnhlt5d2W"
   },
   "source": [
    "* #### 高通濾波器 High Pass Filter\n",
    " - 保持高頻部分，減少或消除低頻部分"
   ]
  },
  {
   "cell_type": "markdown",
   "metadata": {
    "id": "pEqCGNLd5d2W"
   },
   "source": [
    "* #### Sobel Filter -- Edge Detection"
   ]
  },
  {
   "cell_type": "code",
   "execution_count": null,
   "metadata": {
    "id": "WOA1opmH5d2X"
   },
   "outputs": [],
   "source": [
    "img = cv2.imread(\"bicycle.jpg\")[:, :, ::-1]"
   ]
  },
  {
   "cell_type": "code",
   "execution_count": null,
   "metadata": {
    "id": "veKnyejE5d2X"
   },
   "outputs": [],
   "source": [
    "sobel_filter_h = np.array([[1, 2, 1],\n",
    "                           [0, 0, 0],\n",
    "                           [-1, -2, -1]])\n",
    "sobel_filter_v = np.array([[1, 0, -1],\n",
    "                           [2, 0, -2],\n",
    "                           [1, 0, -1]])"
   ]
  },
  {
   "cell_type": "code",
   "execution_count": null,
   "metadata": {
    "id": "-8kj8tDv5d2X"
   },
   "outputs": [],
   "source": [
    "edge_h = cv2.filter2D(img, -1, sobel_filter_h)\n",
    "edge_v = cv2.filter2D(img, -1, sobel_filter_v)"
   ]
  },
  {
   "cell_type": "code",
   "execution_count": null,
   "metadata": {
    "id": "qJu3l0uI5d2X"
   },
   "outputs": [],
   "source": [
    "output = [img, edge_h, edge_v]\n",
    "titles = ['Original', 'Horizantol', 'Vertical']\n",
    "\n",
    "plt.figure(figsize=(24, 8))\n",
    "for i in range(3):\n",
    "    plt.subplot(1, 3, i+1)\n",
    "    plt.imshow(output[i], cmap='gray')\n",
    "    plt.title(titles[i], fontsize=16)\n",
    "    plt.axis(\"off\")\n",
    "plt.show()"
   ]
  },
  {
   "cell_type": "markdown",
   "metadata": {
    "id": "J28Bk2Az5d2X"
   },
   "source": [
    "* #### Laplacian Filter"
   ]
  },
  {
   "cell_type": "code",
   "execution_count": null,
   "metadata": {
    "id": "P9H3jpX-5d2X"
   },
   "outputs": [],
   "source": [
    "img = cv2.imread(\"poker.jpg\")[:, :, ::-1]\n",
    "\n",
    "# Laplacian Filter\n",
    "laplacian_filter = np.array([[-1, -1, -1],\n",
    "                             [-1, 8, -1],\n",
    "                             [-1, -1, -1]])\n",
    "# # 相同結果\n",
    "# laplacian_filter = -np.ones((3, 3))\n",
    "# laplacian_filter[1, 1] = 8"
   ]
  },
  {
   "cell_type": "code",
   "execution_count": null,
   "metadata": {
    "id": "suGk1bHA5d2Z"
   },
   "outputs": [],
   "source": [
    "edge = cv2.filter2D(img, -1, laplacian_filter)"
   ]
  },
  {
   "cell_type": "code",
   "execution_count": null,
   "metadata": {
    "id": "CgZ6OOQ85d2a"
   },
   "outputs": [],
   "source": [
    "output = [img, edge]\n",
    "titles = ['Original', 'Edges']\n",
    "plt.figure(figsize=(16, 8))\n",
    "for i in range(2):\n",
    "    plt.subplot(1, 2, i+1)\n",
    "    plt.imshow(output[i], cmap='gray')\n",
    "    plt.title(titles[i], fontsize=16)\n",
    "    plt.axis(\"off\")\n",
    "plt.show()"
   ]
  },
  {
   "cell_type": "markdown",
   "metadata": {
    "id": "sGWVh9rV5d2a"
   },
   "source": [
    "* #### Laplacian --Sharpening 影像銳化"
   ]
  },
  {
   "cell_type": "code",
   "execution_count": null,
   "metadata": {
    "id": "jX7ivSWq5d2a"
   },
   "outputs": [],
   "source": [
    "img = cv2.imread(\"Einstein.jpg\")[:, :, ::-1]\n",
    "edge = cv2.Laplacian(img, -1, 3)\n",
    "sharp = img - 0.5 * edge"
   ]
  },
  {
   "cell_type": "code",
   "execution_count": null,
   "metadata": {
    "id": "jacu3h9A5d2a"
   },
   "outputs": [],
   "source": [
    "sharp[sharp > 255] = 255\n",
    "sharp[sharp < 0] = 0"
   ]
  },
  {
   "cell_type": "code",
   "execution_count": null,
   "metadata": {
    "id": "s3cjC9Yj5d2a"
   },
   "outputs": [],
   "source": [
    "output = [img, sharp.astype('uint8')]\n",
    "titles = ['Original', 'Sharpening']\n",
    "plt.figure(figsize=(16, 8))\n",
    "for i in range(2):\n",
    "    plt.subplot(1, 2, i+1)\n",
    "    plt.imshow(output[i], cmap='gray')\n",
    "    plt.title(titles[i], fontsize=16)\n",
    "    plt.axis(\"off\")\n",
    "plt.show()"
   ]
  },
  {
   "cell_type": "markdown",
   "metadata": {
    "id": "NAu9Aq6P5d2a"
   },
   "source": [
    "Reference<br>\n",
    "[1] http://163.13.127.10/pages/cht/courses/yen/proj105/pdf/day3.pdf"
   ]
  },
  {
   "cell_type": "code",
   "execution_count": null,
   "metadata": {
    "id": "hA53r3Gl5d2b"
   },
   "outputs": [],
   "source": []
  }
 ],
 "metadata": {
  "colab": {
   "provenance": []
  },
  "kernelspec": {
   "display_name": "Python 3 (ipykernel)",
   "language": "python",
   "name": "python3"
  },
  "language_info": {
   "codemirror_mode": {
    "name": "ipython",
    "version": 3
   },
   "file_extension": ".py",
   "mimetype": "text/x-python",
   "name": "python",
   "nbconvert_exporter": "python",
   "pygments_lexer": "ipython3",
   "version": "3.7.12"
  }
 },
 "nbformat": 4,
 "nbformat_minor": 4
}
