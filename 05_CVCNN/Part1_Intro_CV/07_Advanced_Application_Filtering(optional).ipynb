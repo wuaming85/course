{
 "cells": [
  {
   "cell_type": "markdown",
   "metadata": {
    "id": "gyxRCO4p5eUl"
   },
   "source": [
    "# The Adavanced Application of the Filter"
   ]
  },
  {
   "cell_type": "markdown",
   "metadata": {
    "id": "C1IAXiNT5eUp"
   },
   "source": [
    "### 本章節內容大綱\n",
    "* [影像金字塔 Image pyramid](#影像金字塔-Image-pyramid)\n",
    "* [形態學](#形態學-morphology)\n",
    "* [影像顏色分佈](#影像顏色分佈)\n",
    "* [Canny Edge 邊緣偵測](#Canny-Edge-邊緣偵測)"
   ]
  },
  {
   "cell_type": "code",
   "execution_count": null,
   "metadata": {
    "id": "EAhAiBys5eUq"
   },
   "outputs": [],
   "source": [
    "import cv2\n",
    "import matplotlib.pyplot as plt\n",
    "import numpy as np\n",
    "from numpy import random\n",
    "from numpy import shape"
   ]
  },
  {
   "cell_type": "markdown",
   "metadata": {
    "id": "ZNUaq02h5eUq"
   },
   "source": [
    "* ## 影像金字塔 Image pyramid\n",
    "主要功能是可以從不同的解析度來發現到圖像的特性，有時候在低解析度在圖像分辨上，反而不會被太多影像細節所干涉，而在卷積類神經網路中，有些演算法也有加入此概念。"
   ]
  },
  {
   "cell_type": "code",
   "execution_count": null,
   "metadata": {
    "id": "rZ65aUaxN4Mg"
   },
   "outputs": [],
   "source": [
    "# upload Data\n",
    "!wget -q https://github.com/TA-aiacademy/course_3.0/releases/download/CVCNN_Data/CVCNN_part1.zip\n",
    "!unzip -q CVCNN_part1.zip"
   ]
  },
  {
   "cell_type": "code",
   "execution_count": null,
   "metadata": {
    "id": "EtuTBdmk5eUr"
   },
   "outputs": [],
   "source": [
    "Original_image = cv2.imread('poker.jpg', cv2.IMREAD_UNCHANGED)\n",
    "Original_image = cv2.cvtColor(Original_image, cv2.COLOR_BGR2RGB)"
   ]
  },
  {
   "cell_type": "code",
   "execution_count": null,
   "metadata": {
    "id": "PMvW633y5eUr"
   },
   "outputs": [],
   "source": [
    "pyrDown_img_1 = cv2.pyrDown(Original_image)\n",
    "pyrDown_img_2 = cv2.pyrDown(pyrDown_img_1)\n",
    "pyrDown_img_3 = cv2.pyrDown(pyrDown_img_2)\n",
    "pyrDown_img_4 = cv2.pyrDown(pyrDown_img_3)\n",
    "pyrDown_img_5 = cv2.pyrDown(pyrDown_img_4)\n",
    "\n",
    "titles = ['Original_image', 'pyrDown_img_1',\n",
    "          'pyrDown_img_2', 'pyrDown_img_3',\n",
    "          'pyrDown_img_4', 'pyrDown_img_5']\n",
    "images = [Original_image, pyrDown_img_1, pyrDown_img_2,\n",
    "          pyrDown_img_3, pyrDown_img_4, pyrDown_img_5]\n",
    "\n",
    "plt.figure(figsize=(16, 6))\n",
    "\n",
    "for i in range(6):\n",
    "    plt.subplot(2, 3, i+1)\n",
    "    plt.imshow(images[i])\n",
    "    plt.title(titles[i])\n",
    "    plt.xticks([])\n",
    "    plt.yticks([])\n",
    "plt.show()"
   ]
  },
  {
   "cell_type": "markdown",
   "metadata": {
    "id": "lwJ_rOXt5eUs"
   },
   "source": [
    "[(back...)](#The-Adavanced-Application-of-the-Filter)"
   ]
  },
  {
   "cell_type": "markdown",
   "metadata": {
    "id": "SGcBNm3d5eUs"
   },
   "source": [
    "* ## 形態學 morphology\n",
    "除了先前幾份程式碼中一些線性的濾波器外，也有一些非線性的影像處理方式。<br>\n",
    "形態學是其中一個實用的工具，能夠達成消除雜點、抓出形狀等等的用途。"
   ]
  },
  {
   "cell_type": "markdown",
   "metadata": {
    "id": "0TVE5Uan5eUs"
   },
   "source": [
    "先加入椒鹽雜訊"
   ]
  },
  {
   "cell_type": "code",
   "execution_count": null,
   "metadata": {
    "id": "qa1t1Iz05eUt"
   },
   "outputs": [],
   "source": [
    "image = cv2.imread('5z.png', cv2.IMREAD_UNCHANGED)\n",
    "image = cv2.cvtColor(image, cv2.COLOR_BGR2RGB)"
   ]
  },
  {
   "cell_type": "code",
   "execution_count": null,
   "metadata": {
    "id": "unsqw2pr5eUt"
   },
   "outputs": [],
   "source": [
    "def ImpulseNoise(img, noise_type, percetage):\n",
    "    NoiseNum = int(percetage * img.shape[0] * img.shape[1])\n",
    "\n",
    "    randX = np.random.randint(0, img.shape[0], NoiseNum)\n",
    "    randY = np.random.randint(0, img.shape[1], NoiseNum)\n",
    "\n",
    "    if noise_type == \"pepper\":\n",
    "        img[randX, randY] = 0\n",
    "    elif noise_type == \"salt\":\n",
    "        img[randX, randY] = 255\n",
    "    elif noise_type == \"s&p\":\n",
    "        img[randX[::2], randY[::2]] = 0\n",
    "        img[randX[1::2], randY[1::2]] = 255\n",
    "    else:\n",
    "        pass\n",
    "\n",
    "    return img\n",
    "\n",
    "\n",
    "NoiseImage = ImpulseNoise(image, \"salt\", 0.01)\n",
    "plt.imshow(NoiseImage)"
   ]
  },
  {
   "cell_type": "markdown",
   "metadata": {
    "id": "oHOd30GB5eUt"
   },
   "source": [
    "對有雜點的圖片使用形態學工具<br>\n",
    "以下演示：<br>\n",
    "<img src=\"https://i.imgur.com/8GpROJl.png\" width=550/>\n",
    "\n",
    "這五種的用法以及效果。"
   ]
  },
  {
   "cell_type": "code",
   "execution_count": null,
   "metadata": {
    "id": "znGG8c5f5eUu"
   },
   "outputs": [],
   "source": [
    "kernel = np.ones((3, 3), np.uint8)\n",
    "image = NoiseImage\n",
    "\n",
    "# 膨脹(與kernel作用後取最大值)\n",
    "dilation = cv2.dilate(image, kernel, iterations=1)\n",
    "\n",
    "# 侵蝕(與kernel作用後取最小值)\n",
    "erosion = cv2.erode(image, kernel, iterations=15)\n",
    "\n",
    "# 開運算(先侵蝕再膨脹)\n",
    "opening = cv2.morphologyEx(image, cv2.MORPH_OPEN, kernel)\n",
    "\n",
    "# 閉運算(先膨脹再侵蝕)\n",
    "closing = cv2.morphologyEx(image, cv2.MORPH_CLOSE, kernel)\n",
    "\n",
    "# 梯度(膨脹減去侵蝕)\n",
    "gradient = cv2.morphologyEx(image, cv2.MORPH_GRADIENT, kernel)\n",
    "\n",
    "titles = ['Original_img', 'dilation', 'erosion',\n",
    "          'opening', 'closing', 'gradient']\n",
    "images = [image, dilation, erosion,\n",
    "          opening, closing, gradient]\n",
    "\n",
    "plt.figure(figsize=(14, 8))\n",
    "for i in range(6):\n",
    "    plt.subplot(2, 3, i+1)\n",
    "    plt.imshow(images[i], 'gray')\n",
    "    plt.title(titles[i])\n",
    "plt.show()"
   ]
  },
  {
   "cell_type": "code",
   "execution_count": null,
   "metadata": {
    "id": "BbCtaXQ15eUu"
   },
   "outputs": [],
   "source": [
    "kernel = np.ones((3, 3), np.uint8)\n",
    "image = cv2.imread('poker.jpg', cv2.IMREAD_UNCHANGED)\n",
    "image = cv2.cvtColor(image, cv2.COLOR_BGR2RGB)\n",
    "\n",
    "# 膨脹(與kernel作用後取最大值)\n",
    "dilation = cv2.dilate(image, kernel, iterations=1)\n",
    "\n",
    "# 侵蝕(與kernel作用後取最小值)\n",
    "erosion = cv2.erode(image, kernel, iterations=15)\n",
    "\n",
    "# 開運算(先侵蝕再膨脹)\n",
    "opening = cv2.morphologyEx(image, cv2.MORPH_OPEN, kernel)\n",
    "\n",
    "# 閉運算(先膨脹再侵蝕)\n",
    "closing = cv2.morphologyEx(image, cv2.MORPH_CLOSE, kernel)\n",
    "\n",
    "# 梯度(膨脹減去侵蝕)\n",
    "gradient = cv2.morphologyEx(image, cv2.MORPH_GRADIENT, kernel)\n",
    "\n",
    "\n",
    "titles = ['Original_img', 'dilation', 'erosion',\n",
    "          'opening', 'closing', 'gradient']\n",
    "images = [image, dilation, erosion, opening, closing, gradient]\n",
    "\n",
    "\n",
    "plt.figure(figsize=(14, 6))\n",
    "for i in range(6):\n",
    "    plt.subplot(2, 3, i+1)\n",
    "    plt.imshow(images[i], 'gray')\n",
    "    plt.title(titles[i])\n",
    "    plt.xticks([])\n",
    "    plt.yticks([])\n",
    "\n",
    "plt.show()"
   ]
  },
  {
   "cell_type": "markdown",
   "metadata": {
    "id": "5kQ6oRD_5eUu"
   },
   "source": [
    "若真的對形態學<font color=#ff0000 size=5>很</font>有興趣的話，可以去以下連結觀看：<br>\n",
    "* wiki<br>\n",
    "https://en.wikipedia.org/wiki/Mathematical_morphology\n",
    "* opencv<br>\n",
    "erosion and dilation:<br> \n",
    "https://docs.opencv.org/4.1.1/db/df6/tutorial_erosion_dilatation.html<br>\n",
    "morphologyEx:<br>\n",
    "https://docs.opencv.org/4.1.1/d3/dbe/tutorial_opening_closing_hats.html<br>\n",
    "* 雜七雜八介紹:<br>\n",
    "https://www.youtube.com/watch?v=IcBzsP-fvPo<br>\n",
    "https://homepages.inf.ed.ac.uk/rbf/HIPR2/morops.htm<br>\n",
    "https://en.wikipedia.org/wiki/Mathematical_morphology<br>"
   ]
  },
  {
   "cell_type": "markdown",
   "metadata": {
    "id": "Czn3QvZg5eUv"
   },
   "source": [
    "[(back...)](#The-Adavanced-Application-of-the-Filter)"
   ]
  },
  {
   "cell_type": "markdown",
   "metadata": {
    "id": "YiLZfr4q5eUv"
   },
   "source": [
    "* ## 影像顏色分佈\n",
    "觀察圖像中pixel的成分分佈"
   ]
  },
  {
   "cell_type": "code",
   "execution_count": null,
   "metadata": {
    "id": "WDhMYI7G5eUv"
   },
   "outputs": [],
   "source": [
    "img = cv2.imread('Einstein.jpg')\n",
    "img = cv2.cvtColor(img, cv2.COLOR_BGR2RGB)\n",
    "# create a mask\n",
    "mask_1 = np.zeros(img.shape[:2], np.uint8)\n",
    "mask_2 = np.zeros(img.shape[:2], np.uint8)\n",
    "\n",
    "mask_1[100:400, 100:600] = 255\n",
    "mask_2[150:250, 200:400] = 255\n",
    "masked_img_1 = cv2.bitwise_and(img, img, mask=mask_1)\n",
    "\n",
    "masked_img_2 = cv2.bitwise_and(img, img, mask=mask_2)\n",
    "\n",
    "# Calculate histogram with mask and without mask\n",
    "# Check third argument for mask\n",
    "# cv2.calcHist(影像, 通道, 遮罩, 區間數量, 數值範圍)\n",
    "hist_full = cv2.calcHist([img], [0], None, [256], [0, 256])\n",
    "hist_mask_1 = cv2.calcHist([img], [0], mask_1, [256], [0, 256])\n",
    "hist_mask_2 = cv2.calcHist([img], [0], mask_2, [256], [0, 256])\n",
    "\n",
    "\n",
    "plt.figure(figsize=(12, 12))\n",
    "\n",
    "plt.subplot(421), plt.imshow(img, 'gray')\n",
    "plt.subplot(423), plt.imshow(mask_1, 'gray')\n",
    "plt.subplot(424), plt.imshow(masked_img_1, 'gray')\n",
    "plt.subplot(425), plt.imshow(mask_2, 'gray')\n",
    "plt.subplot(426), plt.imshow(masked_img_2, 'gray')\n",
    "\n",
    "plt.subplot(427)\n",
    "plt.plot(hist_full)\n",
    "plt.plot(hist_mask_1)\n",
    "plt.plot(hist_mask_2)\n",
    "plt.xlim([0, 256])\n",
    "\n",
    "plt.show()"
   ]
  },
  {
   "cell_type": "markdown",
   "metadata": {
    "id": "Z9VDO9Vk5eUv"
   },
   "source": [
    "[(back...)](#The-Adavanced-Application-of-the-Filter)"
   ]
  },
  {
   "cell_type": "markdown",
   "metadata": {
    "id": "9710272c"
   },
   "source": [
    "* ## Canny Edge 邊緣偵測"
   ]
  },
  {
   "cell_type": "code",
   "execution_count": null,
   "metadata": {
    "executionInfo": {
     "elapsed": 3,
     "status": "ok",
     "timestamp": 1676967014180,
     "user": {
      "displayName": "吳承澔",
      "userId": "17428420001093174904"
     },
     "user_tz": -480
    },
    "id": "9c41f1a2"
   },
   "outputs": [],
   "source": [
    "image = cv2.imread(\"highway.jpg\")[:, :, ::-1]"
   ]
  },
  {
   "cell_type": "code",
   "execution_count": null,
   "metadata": {
    "colab": {
     "base_uri": "https://localhost:8080/",
     "height": 408
    },
    "executionInfo": {
     "elapsed": 1433,
     "status": "ok",
     "timestamp": 1676967015611,
     "user": {
      "displayName": "吳承澔",
      "userId": "17428420001093174904"
     },
     "user_tz": -480
    },
    "id": "0218259d",
    "outputId": "1c91a7cb-4f49-4bda-c8f1-5a1e48992823"
   },
   "outputs": [],
   "source": [
    "plt.figure(figsize=(12, 12))\n",
    "plt.imshow(image)\n",
    "plt.axis(\"off\")\n",
    "plt.show()"
   ]
  },
  {
   "cell_type": "code",
   "execution_count": null,
   "metadata": {
    "colab": {
     "base_uri": "https://localhost:8080/",
     "height": 408
    },
    "executionInfo": {
     "elapsed": 9,
     "status": "ok",
     "timestamp": 1676967015611,
     "user": {
      "displayName": "吳承澔",
      "userId": "17428420001093174904"
     },
     "user_tz": -480
    },
    "id": "0e8bd2c3",
    "outputId": "36733030-7af0-4015-8ddb-a015eff2aae6"
   },
   "outputs": [],
   "source": [
    "gray = cv2.cvtColor(image, cv2.COLOR_RGB2GRAY)  # grayscale conversion\n",
    "plt.figure(figsize=(12, 12))\n",
    "plt.imshow(gray, cmap='gray')\n",
    "plt.axis(\"off\")\n",
    "plt.show()"
   ]
  },
  {
   "cell_type": "code",
   "execution_count": null,
   "metadata": {
    "executionInfo": {
     "elapsed": 8,
     "status": "ok",
     "timestamp": 1676967015612,
     "user": {
      "displayName": "吳承澔",
      "userId": "17428420001093174904"
     },
     "user_tz": -480
    },
    "id": "52473acf"
   },
   "outputs": [],
   "source": [
    "kernel_size = 3\n",
    "blur_gray = cv2.GaussianBlur(gray, (kernel_size, kernel_size), 0)"
   ]
  },
  {
   "cell_type": "code",
   "execution_count": null,
   "metadata": {
    "executionInfo": {
     "elapsed": 8,
     "status": "ok",
     "timestamp": 1676967015612,
     "user": {
      "displayName": "吳承澔",
      "userId": "17428420001093174904"
     },
     "user_tz": -480
    },
    "id": "ebc44788"
   },
   "outputs": [],
   "source": [
    "low_threshold = 50\n",
    "high_threshold = 150\n",
    "edges = cv2.Canny(blur_gray, low_threshold, high_threshold)"
   ]
  },
  {
   "cell_type": "code",
   "execution_count": null,
   "metadata": {
    "colab": {
     "base_uri": "https://localhost:8080/",
     "height": 408
    },
    "executionInfo": {
     "elapsed": 7,
     "status": "ok",
     "timestamp": 1676967015612,
     "user": {
      "displayName": "吳承澔",
      "userId": "17428420001093174904"
     },
     "user_tz": -480
    },
    "id": "84be2831",
    "outputId": "610ad6c7-dc74-4963-d98f-d7cf484e3706"
   },
   "outputs": [],
   "source": [
    "plt.figure(figsize=(12, 12))\n",
    "plt.imshow(edges, cmap='Greys_r')\n",
    "plt.axis(\"off\")\n",
    "plt.show()"
   ]
  },
  {
   "cell_type": "markdown",
   "metadata": {
    "id": "be638e2b"
   },
   "source": [
    "[(back...)](#Canny-Edge-邊緣偵測)"
   ]
  }
 ],
 "metadata": {
  "colab": {
   "provenance": []
  },
  "kernelspec": {
   "display_name": "Python 3 (ipykernel)",
   "language": "python",
   "name": "python3"
  },
  "language_info": {
   "codemirror_mode": {
    "name": "ipython",
    "version": 3
   },
   "file_extension": ".py",
   "mimetype": "text/x-python",
   "name": "python",
   "nbconvert_exporter": "python",
   "pygments_lexer": "ipython3",
   "version": "3.7.12"
  }
 },
 "nbformat": 4,
 "nbformat_minor": 4
}
